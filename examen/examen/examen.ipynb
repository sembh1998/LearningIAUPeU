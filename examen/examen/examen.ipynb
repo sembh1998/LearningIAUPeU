{
 "cells": [
  {
   "cell_type": "markdown",
   "metadata": {},
   "source": [
    "### Examen Unidad 1\n",
    "Examinar la pagina de mercado libre (https://listado.mercadolibre.com.pe/laptops#D[A:laptops]) y extraer los precios. Finalmente ponerlos en un dataframe.\n",
    "\n",
    "Nota: Todo laboratorio y examen se entregara en formato jupyter y pdf.\n"
   ]
  },
  {
   "cell_type": "code",
   "execution_count": 2,
   "metadata": {},
   "outputs": [],
   "source": [
    "#Nombre y apellidos: sem niko benavente hilario"
   ]
  },
  {
   "cell_type": "markdown",
   "metadata": {},
   "source": [
    "###  Imports\n"
   ]
  },
  {
   "cell_type": "code",
   "execution_count": 1,
   "metadata": {},
   "outputs": [
    {
     "name": "stdout",
     "output_type": "stream",
     "text": [
      "Requirement already satisfied: requests in c:\\users\\sembe\\documents\\github\\learningiaupeu\\examen\\env\\lib\\site-packages (2.27.1)\n",
      "Requirement already satisfied: charset-normalizer~=2.0.0 in c:\\users\\sembe\\documents\\github\\learningiaupeu\\examen\\env\\lib\\site-packages (from requests) (2.0.12)\n",
      "Requirement already satisfied: certifi>=2017.4.17 in c:\\users\\sembe\\documents\\github\\learningiaupeu\\examen\\env\\lib\\site-packages (from requests) (2021.10.8)\n",
      "Requirement already satisfied: idna<4,>=2.5 in c:\\users\\sembe\\documents\\github\\learningiaupeu\\examen\\env\\lib\\site-packages (from requests) (3.3)\n",
      "Requirement already satisfied: urllib3<1.27,>=1.21.1 in c:\\users\\sembe\\documents\\github\\learningiaupeu\\examen\\env\\lib\\site-packages (from requests) (1.26.9)\n"
     ]
    }
   ],
   "source": [
    "!pip install requests"
   ]
  },
  {
   "cell_type": "code",
   "execution_count": 2,
   "metadata": {},
   "outputs": [],
   "source": [
    "import requests"
   ]
  },
  {
   "cell_type": "markdown",
   "metadata": {},
   "source": [
    "### HTTP Request"
   ]
  },
  {
   "cell_type": "markdown",
   "metadata": {},
   "source": [
    "#### store website in variable"
   ]
  },
  {
   "cell_type": "code",
   "execution_count": 3,
   "metadata": {},
   "outputs": [],
   "source": [
    "url=\"https://listado.mercadolibre.com.pe/laptops#D[A:laptops]\""
   ]
  },
  {
   "cell_type": "markdown",
   "metadata": {},
   "source": [
    "#### Get Request"
   ]
  },
  {
   "cell_type": "code",
   "execution_count": 4,
   "metadata": {},
   "outputs": [],
   "source": [
    "r = requests.get(url) #cargamos la página"
   ]
  },
  {
   "cell_type": "markdown",
   "metadata": {},
   "source": [
    "#### Status Code"
   ]
  },
  {
   "cell_type": "code",
   "execution_count": 5,
   "metadata": {},
   "outputs": [
    {
     "name": "stdout",
     "output_type": "stream",
     "text": [
      "<Response [200]>\n"
     ]
    }
   ],
   "source": [
    "print(r)"
   ]
  },
  {
   "cell_type": "markdown",
   "metadata": {},
   "source": [
    "### Soup Object"
   ]
  },
  {
   "cell_type": "code",
   "execution_count": 6,
   "metadata": {},
   "outputs": [
    {
     "name": "stdout",
     "output_type": "stream",
     "text": [
      "Collecting bs4\n",
      "  Downloading bs4-0.0.1.tar.gz (1.1 kB)\n",
      "  Preparing metadata (setup.py): started\n",
      "  Preparing metadata (setup.py): finished with status 'done'\n",
      "Requirement already satisfied: beautifulsoup4 in c:\\users\\sembe\\documents\\github\\learningiaupeu\\examen\\env\\lib\\site-packages (from bs4) (4.11.1)\n",
      "Requirement already satisfied: soupsieve>1.2 in c:\\users\\sembe\\documents\\github\\learningiaupeu\\examen\\env\\lib\\site-packages (from beautifulsoup4->bs4) (2.3.2.post1)\n",
      "Using legacy 'setup.py install' for bs4, since package 'wheel' is not installed.\n",
      "Installing collected packages: bs4\n",
      "  Running setup.py install for bs4: started\n",
      "  Running setup.py install for bs4: finished with status 'done'\n",
      "Successfully installed bs4-0.0.1\n"
     ]
    }
   ],
   "source": [
    " !pip install bs4"
   ]
  },
  {
   "cell_type": "markdown",
   "metadata": {},
   "source": [
    "### Results"
   ]
  },
  {
   "cell_type": "code",
   "execution_count": 8,
   "metadata": {},
   "outputs": [],
   "source": [
    "from bs4 import BeautifulSoup ## importamos la librería bs4\n",
    "\n",
    "soup = BeautifulSoup(r.content, \"html.parser\")## leemos los datos con bs4 en base al código html\n",
    "titulo = soup.find(\"title\")"
   ]
  },
  {
   "cell_type": "code",
   "execution_count": 9,
   "metadata": {},
   "outputs": [
    {
     "name": "stdout",
     "output_type": "stream",
     "text": [
      "<title>Laptops | MercadoLibre 📦</title>\n"
     ]
    }
   ],
   "source": [
    "print(titulo)"
   ]
  },
  {
   "cell_type": "code",
   "execution_count": null,
   "metadata": {},
   "outputs": [],
   "source": []
  },
  {
   "cell_type": "markdown",
   "metadata": {},
   "source": [
    "#### Title"
   ]
  },
  {
   "cell_type": "code",
   "execution_count": 11,
   "metadata": {},
   "outputs": [],
   "source": [
    "titulos = soup.find_all(\"h2\", class_=\"ui-search-item__title\")"
   ]
  },
  {
   "cell_type": "code",
   "execution_count": 12,
   "metadata": {},
   "outputs": [
    {
     "name": "stdout",
     "output_type": "stream",
     "text": [
      "[<h2 class=\"ui-search-item__title\">Laptop Huawei Matebook D14 I5 8gb Ram, 512gb Ssd + Regalos</h2>, <h2 class=\"ui-search-item__title\">Macbook Air 13'' Procesador Apple M1 (8 Gb Ram, 256 Gb Ssd)</h2>, <h2 class=\"ui-search-item__title\">Laptop Hp 15-dy2050la Intel® Core I3-1115g4 8gb 256gb+16gb</h2>, <h2 class=\"ui-search-item__title\">Laptop Huawei Matebook D15 I5 8gb Ram, 512gb Ssd + Regalos</h2>, <h2 class=\"ui-search-item__title\">Laptop Gamer Lenovo Legion 5 Pro Ryzen 7 Geforce Rtx 3060</h2>, <h2 class=\"ui-search-item__title\">Lenovo Ideapad 5 - Ryzen 5 - 8gb - 256 Gb Ssd -graphite Grey</h2>, <h2 class=\"ui-search-item__title\">Laptop Gamer Lenovo Ideapad Gaming 3  Intel I5 Gtx 1650 Ti</h2>, <h2 class=\"ui-search-item__title\">Macbook Pro 14 Chip M1 Pro 512gb Ssd 16 Gb Ram 2021 Ingles</h2>, <h2 class=\"ui-search-item__title\">Macbook Pro 13 (2020) Chip M1 Apple / 8gb Ram 256gb Ssd</h2>, <h2 class=\"ui-search-item__title\">Macbook Pro 13 2020 M1 8gb Ram 512gb Ssd Stock Disponible!!!</h2>, <h2 class=\"ui-search-item__title\">Laptop Gamer Lenovo Legion 7 Ryzen 9 32gb 1tb Ssd Rtx 3080 </h2>, <h2 class=\"ui-search-item__title\">Hp Laptop 15-dy2060la Ram 8gb Rom 256gb</h2>, <h2 class=\"ui-search-item__title\">Lenovo Ideapad Gaming 3- I7 11th - 16 Gb -nvidia Rtx 3050 4g</h2>, <h2 class=\"ui-search-item__title\">Acer Swift X 14  Fhd Ryzen 7 5800u Rtx 3050ti 16gb 512gb Ssd</h2>, <h2 class=\"ui-search-item__title\">Laptop Asus K513 15.6' Fhd I5 11va 8gb 512gb Ssd Lec. Huella</h2>, <h2 class=\"ui-search-item__title\">Hp Laptop 15-dw1085la (310h7la)</h2>, <h2 class=\"ui-search-item__title\">Macbook Pro Retina 14 / M1 Pro 512gb 16gb / Stock Ya! / 2021</h2>, <h2 class=\"ui-search-item__title\">Lenovo Ideapad 3 - Ryzen 5 - 8gb - 512 Gb Ssd - Black</h2>, <h2 class=\"ui-search-item__title\">Laptop Hp 15-ef1009la</h2>, <h2 class=\"ui-search-item__title\">Laptop Lenovo 14w Black - A6 4 Gb 128 Gb </h2>, <h2 class=\"ui-search-item__title\">Laptop Lenovo 14w A6 4gb 64gb </h2>, <h2 class=\"ui-search-item__title\">Laptop Lenovo Celeron N4020 Ram 8gb Ssd 128gb Windows 10 </h2>, <h2 class=\"ui-search-item__title\">Laptop Lenovo Ideapad 5 14 Fhd Amdryzen 7 5700u-serie 5000</h2>, <h2 class=\"ui-search-item__title\">Notebook Lenovo Legion Y545 Intel Core I7 16gb 1tb Hdd+256gb</h2>, <h2 class=\"ui-search-item__title\">Macbook Air 13 (2020) Chip M1 Apple / 8gb Ram 512gb Ssd</h2>, <h2 class=\"ui-search-item__title\">Laptop Lenovo Ideapad 5 14 Fhd Amdryzen 7 5700u-serie 5000</h2>, <h2 class=\"ui-search-item__title\">Macbook Pro 16 Chip M1 Pro 1tb Ssd 16gb Ram 2021 </h2>, <h2 class=\"ui-search-item__title\">Cover Case Mate Para Macbook Air 13.3 A2337 M1 / A1932</h2>, <h2 class=\"ui-search-item__title\">Macbook Pro 14 Apple M1 Pro 2021 16gb 512gb Ssd | En Stock</h2>, <h2 class=\"ui-search-item__title\">Laptop Huawei Matebook 14 I5 11va 8gb Ram,512gb Ssd +regalos</h2>, <h2 class=\"ui-search-item__title\">Laptop Lenovo Ip5 14' Ryzen 5 8gb 512gb Ssd W10 Ultra Veloz</h2>, <h2 class=\"ui-search-item__title\">Notebook Lenovo Legion Y545 Intel Core I7 16gb 1tb Hdd+256gb</h2>, <h2 class=\"ui-search-item__title\">Lenovo Thinkpad 14p - Ryzen 7 5800h - 16 Gb - 512 Gb Ssd</h2>, <h2 class=\"ui-search-item__title\">Laptop Lenovo Ideapad 10.1  Hd 4gb 64gb Intel Celeron</h2>, <h2 class=\"ui-search-item__title\">Lenovo Ideapad Gaming 3 - I5 11th Gen - 8 Gb - Gtx 1650 4gb</h2>, <h2 class=\"ui-search-item__title\">Laptop Dell Core I3 1115g4 4.1ghz 8gb Ssd 256gb Windows 10</h2>, <h2 class=\"ui-search-item__title\">Laptop Dell Vostro 3405 14 PuLG Ryzen 5 3450u 8gb, Ssd 256gb</h2>, <h2 class=\"ui-search-item__title\">Hp Pavilion Laptop 14-dv0502la</h2>, <h2 class=\"ui-search-item__title\">Laptop Hp Spectre X360 Convertible 14-ea0001la</h2>, <h2 class=\"ui-search-item__title\">Laptop Hp 15-dw1085la 15.6  Intel Core I3 10°gen 256gb Ssd</h2>, <h2 class=\"ui-search-item__title\">Laptop Asus K513 15.6' I7 11va 12gb 512gb Ssd Tec. Iluminado</h2>, <h2 class=\"ui-search-item__title\">Laptop 144hz Gamer Acer 15.6' I5 8gb 1tb 256gb Ssd Video 4gb</h2>, <h2 class=\"ui-search-item__title\">Laptop Lenovo Core I3-10ma / Ram 4gb/dd 1 Tb /nuevo</h2>, <h2 class=\"ui-search-item__title\">Laptop LG Gram 14  Ci5 11th 8gb 256gb Ssd 14z90p-s</h2>, <h2 class=\"ui-search-item__title\"> Laptop Asus Tuf Fx506 15.6' I7 10ma 16gb 512gb Ssd V4gb Gtx</h2>, <h2 class=\"ui-search-item__title\">Macbook Pro 16 Chip M1 Max 512gb Ssd 32gb Ram 2021 Stock!</h2>, <h2 class=\"ui-search-item__title\">Macbook Pro Retina 16 / M1 Pro 512gb 16gb / Stock Ya! / 2021</h2>, <h2 class=\"ui-search-item__title\">Macbook Pro 16 Chip M1 Max 64gb Ram 512gb Ssd 2021</h2>, <h2 class=\"ui-search-item__title\">Macbook Pro 14 / M1 Pro 512gb 16gb / Teclado Español / 2021</h2>, <h2 class=\"ui-search-item__title\">Macbook Pro 16 Chip M1 Pro 512gb Ssd 16gb Ram 2021 Ingles</h2>]\n"
     ]
    }
   ],
   "source": [
    "print(titulos)"
   ]
  },
  {
   "cell_type": "code",
   "execution_count": 13,
   "metadata": {},
   "outputs": [
    {
     "data": {
      "text/plain": [
       "50"
      ]
     },
     "execution_count": 13,
     "metadata": {},
     "output_type": "execute_result"
    }
   ],
   "source": [
    "len(titulos)"
   ]
  },
  {
   "cell_type": "markdown",
   "metadata": {},
   "source": [
    "####  Price Now"
   ]
  },
  {
   "cell_type": "code",
   "execution_count": 40,
   "metadata": {},
   "outputs": [],
   "source": [
    "price_now = soup.select('.ui-search-price__second-line .ui-search-price__part .price-tag-amount .price-tag-fraction')"
   ]
  },
  {
   "cell_type": "code",
   "execution_count": 42,
   "metadata": {},
   "outputs": [
    {
     "data": {
      "text/plain": [
       "50"
      ]
     },
     "execution_count": 42,
     "metadata": {},
     "output_type": "execute_result"
    }
   ],
   "source": [
    "len(price_now)"
   ]
  },
  {
   "cell_type": "markdown",
   "metadata": {},
   "source": [
    "#### Price Before"
   ]
  },
  {
   "cell_type": "code",
   "execution_count": 18,
   "metadata": {},
   "outputs": [],
   "source": [
    "price_before = soup.select('.ui-search-price__original-value .price-tag-amount .price-tag-fraction')"
   ]
  },
  {
   "cell_type": "code",
   "execution_count": 19,
   "metadata": {},
   "outputs": [
    {
     "data": {
      "text/plain": [
       "33"
      ]
     },
     "execution_count": 19,
     "metadata": {},
     "output_type": "execute_result"
    }
   ],
   "source": [
    "len(price_before)"
   ]
  },
  {
   "cell_type": "code",
   "execution_count": 44,
   "metadata": {},
   "outputs": [
    {
     "data": {
      "text/plain": [
       "50"
      ]
     },
     "execution_count": 44,
     "metadata": {},
     "output_type": "execute_result"
    }
   ],
   "source": [
    "padres = soup.select('.ui-search-price--size-medium')\n",
    "p_now = []\n",
    "p_bef = []\n",
    "\n",
    "now = 0\n",
    "before = 0\n",
    "\n",
    "for item in padres:\n",
    "    if not (item.s):\n",
    "        p_bef.append(price_now[now].get_text())\n",
    "        p_now.append(price_now[now].get_text())\n",
    "        now = now+1\n",
    "    else:\n",
    "        p_bef.append(price_before[before].get_text())\n",
    "        p_now.append(price_now[now].get_text())\n",
    "        now = now+1\n",
    "        before = before+1\n",
    "len(p_now)\n"
   ]
  },
  {
   "cell_type": "markdown",
   "metadata": {},
   "source": [
    "### Create List and append our results (For Loop)"
   ]
  },
  {
   "cell_type": "markdown",
   "metadata": {},
   "source": [
    "#### Name"
   ]
  },
  {
   "cell_type": "code",
   "execution_count": 24,
   "metadata": {},
   "outputs": [],
   "source": [
    "nombres=[ titulos[i].get_text() for i in range(0, len(titulos)) ]\n"
   ]
  },
  {
   "cell_type": "code",
   "execution_count": 25,
   "metadata": {},
   "outputs": [
    {
     "data": {
      "text/plain": [
       "['Laptop Huawei Matebook D14 I5 8gb Ram, 512gb Ssd + Regalos',\n",
       " \"Macbook Air 13'' Procesador Apple M1 (8 Gb Ram, 256 Gb Ssd)\",\n",
       " 'Laptop Hp 15-dy2050la Intel® Core I3-1115g4 8gb 256gb+16gb',\n",
       " 'Laptop Huawei Matebook D15 I5 8gb Ram, 512gb Ssd + Regalos',\n",
       " 'Laptop Gamer Lenovo Legion 5 Pro Ryzen 7 Geforce Rtx 3060',\n",
       " 'Lenovo Ideapad 5 - Ryzen 5 - 8gb - 256 Gb Ssd -graphite Grey',\n",
       " 'Laptop Gamer Lenovo Ideapad Gaming 3  Intel I5 Gtx 1650 Ti',\n",
       " 'Macbook Pro 14 Chip M1 Pro 512gb Ssd 16 Gb Ram 2021 Ingles',\n",
       " 'Macbook Pro 13 (2020) Chip M1 Apple / 8gb Ram 256gb Ssd',\n",
       " 'Macbook Pro 13 2020 M1 8gb Ram 512gb Ssd Stock Disponible!!!',\n",
       " 'Laptop Gamer Lenovo Legion 7 Ryzen 9 32gb 1tb Ssd Rtx 3080 ',\n",
       " 'Hp Laptop 15-dy2060la Ram 8gb Rom 256gb',\n",
       " 'Lenovo Ideapad Gaming 3- I7 11th - 16 Gb -nvidia Rtx 3050 4g',\n",
       " 'Acer Swift X 14  Fhd Ryzen 7 5800u Rtx 3050ti 16gb 512gb Ssd',\n",
       " \"Laptop Asus K513 15.6' Fhd I5 11va 8gb 512gb Ssd Lec. Huella\",\n",
       " 'Hp Laptop 15-dw1085la (310h7la)',\n",
       " 'Macbook Pro Retina 14 / M1 Pro 512gb 16gb / Stock Ya! / 2021',\n",
       " 'Lenovo Ideapad 3 - Ryzen 5 - 8gb - 512 Gb Ssd - Black',\n",
       " 'Laptop Hp 15-ef1009la',\n",
       " 'Laptop Lenovo 14w Black - A6 4 Gb 128 Gb ',\n",
       " 'Laptop Lenovo 14w A6 4gb 64gb ',\n",
       " 'Laptop Lenovo Celeron N4020 Ram 8gb Ssd 128gb Windows 10 ',\n",
       " 'Laptop Lenovo Ideapad 5 14 Fhd Amdryzen 7 5700u-serie 5000',\n",
       " 'Notebook Lenovo Legion Y545 Intel Core I7 16gb 1tb Hdd+256gb',\n",
       " 'Macbook Air 13 (2020) Chip M1 Apple / 8gb Ram 512gb Ssd',\n",
       " 'Laptop Lenovo Ideapad 5 14 Fhd Amdryzen 7 5700u-serie 5000',\n",
       " 'Macbook Pro 16 Chip M1 Pro 1tb Ssd 16gb Ram 2021 ',\n",
       " 'Cover Case Mate Para Macbook Air 13.3 A2337 M1 / A1932',\n",
       " 'Macbook Pro 14 Apple M1 Pro 2021 16gb 512gb Ssd | En Stock',\n",
       " 'Laptop Huawei Matebook 14 I5 11va 8gb Ram,512gb Ssd +regalos',\n",
       " \"Laptop Lenovo Ip5 14' Ryzen 5 8gb 512gb Ssd W10 Ultra Veloz\",\n",
       " 'Notebook Lenovo Legion Y545 Intel Core I7 16gb 1tb Hdd+256gb',\n",
       " 'Lenovo Thinkpad 14p - Ryzen 7 5800h - 16 Gb - 512 Gb Ssd',\n",
       " 'Laptop Lenovo Ideapad 10.1  Hd 4gb 64gb Intel Celeron',\n",
       " 'Lenovo Ideapad Gaming 3 - I5 11th Gen - 8 Gb - Gtx 1650 4gb',\n",
       " 'Laptop Dell Core I3 1115g4 4.1ghz 8gb Ssd 256gb Windows 10',\n",
       " 'Laptop Dell Vostro 3405 14 PuLG Ryzen 5 3450u 8gb, Ssd 256gb',\n",
       " 'Hp Pavilion Laptop 14-dv0502la',\n",
       " 'Laptop Hp Spectre X360 Convertible 14-ea0001la',\n",
       " 'Laptop Hp 15-dw1085la 15.6  Intel Core I3 10°gen 256gb Ssd',\n",
       " \"Laptop Asus K513 15.6' I7 11va 12gb 512gb Ssd Tec. Iluminado\",\n",
       " \"Laptop 144hz Gamer Acer 15.6' I5 8gb 1tb 256gb Ssd Video 4gb\",\n",
       " 'Laptop Lenovo Core I3-10ma / Ram 4gb/dd 1 Tb /nuevo',\n",
       " 'Laptop LG Gram 14  Ci5 11th 8gb 256gb Ssd 14z90p-s',\n",
       " \" Laptop Asus Tuf Fx506 15.6' I7 10ma 16gb 512gb Ssd V4gb Gtx\",\n",
       " 'Macbook Pro 16 Chip M1 Max 512gb Ssd 32gb Ram 2021 Stock!',\n",
       " 'Macbook Pro Retina 16 / M1 Pro 512gb 16gb / Stock Ya! / 2021',\n",
       " 'Macbook Pro 16 Chip M1 Max 64gb Ram 512gb Ssd 2021',\n",
       " 'Macbook Pro 14 / M1 Pro 512gb 16gb / Teclado Español / 2021',\n",
       " 'Macbook Pro 16 Chip M1 Pro 512gb Ssd 16gb Ram 2021 Ingles']"
      ]
     },
     "execution_count": 25,
     "metadata": {},
     "output_type": "execute_result"
    }
   ],
   "source": [
    "nombres"
   ]
  },
  {
   "cell_type": "markdown",
   "metadata": {},
   "source": [
    "#### Price Now"
   ]
  },
  {
   "cell_type": "code",
   "execution_count": 45,
   "metadata": {},
   "outputs": [
    {
     "data": {
      "text/plain": [
       "['2.599',\n",
       " '4.799',\n",
       " '1.759',\n",
       " '2.599',\n",
       " '6.699',\n",
       " '3.399',\n",
       " '3.599',\n",
       " '9.999',\n",
       " '5.999',\n",
       " '6.999',\n",
       " '11.999',\n",
       " '1.499',\n",
       " '5.399',\n",
       " '4.949',\n",
       " '3.299',\n",
       " '1.699',\n",
       " '10.599',\n",
       " '2.499',\n",
       " '1.659',\n",
       " '1.449',\n",
       " '1.099',\n",
       " '749',\n",
       " '3.299',\n",
       " '4.699',\n",
       " '5.999',\n",
       " '3.299',\n",
       " '13.499',\n",
       " '66',\n",
       " '9.999',\n",
       " '3.599',\n",
       " '2.799',\n",
       " '4.699',\n",
       " '5.299',\n",
       " '699',\n",
       " '4.299',\n",
       " '2.059',\n",
       " '2.391',\n",
       " '2.799',\n",
       " '8.199',\n",
       " '1.499',\n",
       " '4.159',\n",
       " '4.199',\n",
       " '1.799',\n",
       " '2.799',\n",
       " '6.499',\n",
       " '19.579',\n",
       " '13.249',\n",
       " '19.799',\n",
       " '11.249',\n",
       " '12.999']"
      ]
     },
     "execution_count": 45,
     "metadata": {},
     "output_type": "execute_result"
    }
   ],
   "source": [
    "p_now"
   ]
  },
  {
   "cell_type": "markdown",
   "metadata": {},
   "source": [
    "#### Price Before"
   ]
  },
  {
   "cell_type": "code",
   "execution_count": 46,
   "metadata": {},
   "outputs": [
    {
     "data": {
      "text/plain": [
       "['3.699',\n",
       " '5.299',\n",
       " '2.399',\n",
       " '3.599',\n",
       " '8.399',\n",
       " '3.399',\n",
       " '4.599',\n",
       " '10.399',\n",
       " '5.999',\n",
       " '7.499',\n",
       " '14.000',\n",
       " '2.599',\n",
       " '6.699',\n",
       " '4.949',\n",
       " '3.299',\n",
       " '2.249',\n",
       " '10.599',\n",
       " '3.199',\n",
       " '2.159',\n",
       " '2.199',\n",
       " '1.899',\n",
       " '749',\n",
       " '3.599',\n",
       " '6.999',\n",
       " '5.999',\n",
       " '3.599',\n",
       " '13.999',\n",
       " '69',\n",
       " '9.999',\n",
       " '4.999',\n",
       " '2.799',\n",
       " '6.999',\n",
       " '7.100',\n",
       " '1.999',\n",
       " '4.999',\n",
       " '2.059',\n",
       " '2.599',\n",
       " '3.599',\n",
       " '8.635',\n",
       " '2.899',\n",
       " '4.159',\n",
       " '4.199',\n",
       " '1.799',\n",
       " '4.499',\n",
       " '6.499',\n",
       " '20.459',\n",
       " '13.249',\n",
       " '20.599',\n",
       " '11.249',\n",
       " '12.999']"
      ]
     },
     "execution_count": 46,
     "metadata": {},
     "output_type": "execute_result"
    }
   ],
   "source": [
    "p_bef"
   ]
  },
  {
   "cell_type": "markdown",
   "metadata": {},
   "source": [
    "### Pandas Dataframe"
   ]
  },
  {
   "cell_type": "code",
   "execution_count": 55,
   "metadata": {},
   "outputs": [
    {
     "name": "stdout",
     "output_type": "stream",
     "text": [
      "Requirement already satisfied: pandas in c:\\users\\sembe\\documents\\github\\learningiaupeu\\examen\\env\\lib\\site-packages (1.4.2)\n",
      "Requirement already satisfied: pytz>=2020.1 in c:\\users\\sembe\\documents\\github\\learningiaupeu\\examen\\env\\lib\\site-packages (from pandas) (2022.1)\n",
      "Requirement already satisfied: numpy>=1.21.0 in c:\\users\\sembe\\documents\\github\\learningiaupeu\\examen\\env\\lib\\site-packages (from pandas) (1.22.3)\n",
      "Requirement already satisfied: python-dateutil>=2.8.1 in c:\\users\\sembe\\documents\\github\\learningiaupeu\\examen\\env\\lib\\site-packages (from pandas) (2.8.2)\n",
      "Requirement already satisfied: six>=1.5 in c:\\users\\sembe\\documents\\github\\learningiaupeu\\examen\\env\\lib\\site-packages (from python-dateutil>=2.8.1->pandas) (1.16.0)\n"
     ]
    }
   ],
   "source": [
    "!pip install pandas\n",
    "import pandas as pd\n",
    "data = pd.DataFrame({\"Laptops\":nombres, \"Precios_Antes\":p_bef, \"Precios_Now\":p_now})"
   ]
  },
  {
   "cell_type": "code",
   "execution_count": 56,
   "metadata": {},
   "outputs": [
    {
     "data": {
      "text/html": [
       "<div>\n",
       "<style scoped>\n",
       "    .dataframe tbody tr th:only-of-type {\n",
       "        vertical-align: middle;\n",
       "    }\n",
       "\n",
       "    .dataframe tbody tr th {\n",
       "        vertical-align: top;\n",
       "    }\n",
       "\n",
       "    .dataframe thead th {\n",
       "        text-align: right;\n",
       "    }\n",
       "</style>\n",
       "<table border=\"1\" class=\"dataframe\">\n",
       "  <thead>\n",
       "    <tr style=\"text-align: right;\">\n",
       "      <th></th>\n",
       "      <th>Laptops</th>\n",
       "      <th>Precios_Antes</th>\n",
       "      <th>Precios_Now</th>\n",
       "    </tr>\n",
       "  </thead>\n",
       "  <tbody>\n",
       "    <tr>\n",
       "      <th>0</th>\n",
       "      <td>Laptop Huawei Matebook D14 I5 8gb Ram, 512gb S...</td>\n",
       "      <td>3.699</td>\n",
       "      <td>2.599</td>\n",
       "    </tr>\n",
       "    <tr>\n",
       "      <th>1</th>\n",
       "      <td>Macbook Air 13'' Procesador Apple M1 (8 Gb Ram...</td>\n",
       "      <td>5.299</td>\n",
       "      <td>4.799</td>\n",
       "    </tr>\n",
       "    <tr>\n",
       "      <th>2</th>\n",
       "      <td>Laptop Hp 15-dy2050la Intel® Core I3-1115g4 8g...</td>\n",
       "      <td>2.399</td>\n",
       "      <td>1.759</td>\n",
       "    </tr>\n",
       "    <tr>\n",
       "      <th>3</th>\n",
       "      <td>Laptop Huawei Matebook D15 I5 8gb Ram, 512gb S...</td>\n",
       "      <td>3.599</td>\n",
       "      <td>2.599</td>\n",
       "    </tr>\n",
       "    <tr>\n",
       "      <th>4</th>\n",
       "      <td>Laptop Gamer Lenovo Legion 5 Pro Ryzen 7 Gefor...</td>\n",
       "      <td>8.399</td>\n",
       "      <td>6.699</td>\n",
       "    </tr>\n",
       "  </tbody>\n",
       "</table>\n",
       "</div>"
      ],
      "text/plain": [
       "                                             Laptops Precios_Antes Precios_Now\n",
       "0  Laptop Huawei Matebook D14 I5 8gb Ram, 512gb S...         3.699       2.599\n",
       "1  Macbook Air 13'' Procesador Apple M1 (8 Gb Ram...         5.299       4.799\n",
       "2  Laptop Hp 15-dy2050la Intel® Core I3-1115g4 8g...         2.399       1.759\n",
       "3  Laptop Huawei Matebook D15 I5 8gb Ram, 512gb S...         3.599       2.599\n",
       "4  Laptop Gamer Lenovo Legion 5 Pro Ryzen 7 Gefor...         8.399       6.699"
      ]
     },
     "execution_count": 56,
     "metadata": {},
     "output_type": "execute_result"
    }
   ],
   "source": [
    "data.head()"
   ]
  },
  {
   "cell_type": "markdown",
   "metadata": {},
   "source": [
    "### Save in Excel"
   ]
  },
  {
   "cell_type": "code",
   "execution_count": 57,
   "metadata": {},
   "outputs": [],
   "source": [
    "data.to_csv(\"prueb.csv\")"
   ]
  },
  {
   "cell_type": "code",
   "execution_count": 62,
   "metadata": {},
   "outputs": [
    {
     "name": "stdout",
     "output_type": "stream",
     "text": [
      "Collecting openpyxl\n",
      "  Downloading openpyxl-3.0.9-py2.py3-none-any.whl (242 kB)\n",
      "     -------------------------------------- 242.2/242.2 KB 5.0 MB/s eta 0:00:00\n",
      "Collecting et-xmlfile\n",
      "  Downloading et_xmlfile-1.1.0-py3-none-any.whl (4.7 kB)\n",
      "Installing collected packages: et-xmlfile, openpyxl\n",
      "Successfully installed et-xmlfile-1.1.0 openpyxl-3.0.9\n"
     ]
    }
   ],
   "source": [
    "!pip install openpyxl"
   ]
  },
  {
   "cell_type": "code",
   "execution_count": 63,
   "metadata": {},
   "outputs": [],
   "source": [
    "data.to_excel(r'laptops.xlsx', index = False)"
   ]
  },
  {
   "cell_type": "code",
   "execution_count": null,
   "metadata": {},
   "outputs": [],
   "source": [
    "## en las laptops que no poseian precio anterior coloque el mismo precio de ahora como su precio anterior"
   ]
  }
 ],
 "metadata": {
  "kernelspec": {
   "display_name": "Python 3 (ipykernel)",
   "language": "python",
   "name": "python3"
  },
  "language_info": {
   "codemirror_mode": {
    "name": "ipython",
    "version": 3
   },
   "file_extension": ".py",
   "mimetype": "text/x-python",
   "name": "python",
   "nbconvert_exporter": "python",
   "pygments_lexer": "ipython3",
   "version": "3.10.4"
  }
 },
 "nbformat": 4,
 "nbformat_minor": 4
}
